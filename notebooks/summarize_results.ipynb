{
 "cells": [
  {
   "cell_type": "code",
   "execution_count": 15,
   "metadata": {},
   "outputs": [],
   "source": [
    "import pandas as pd\n",
    "from pathlib import Path"
   ]
  },
  {
   "cell_type": "code",
   "execution_count": 16,
   "metadata": {},
   "outputs": [],
   "source": [
    "CV_RES_ROOT = Path(\"../data/multi_modal_ppi_results/cross_validation\")\n",
    "HPRD_PATH = CV_RES_ROOT / \"hprd_run.csv\"\n",
    "BIOINFER_PATH = CV_RES_ROOT / \"bioinfer_run.csv\""
   ]
  },
  {
   "cell_type": "code",
   "execution_count": 17,
   "metadata": {},
   "outputs": [],
   "source": [
    "hprd_df = pd.read_csv(HPRD_PATH, index_col=\"Name\")\n",
    "bioinfer_df = pd.read_csv(BIOINFER_PATH, index_col=\"Name\")"
   ]
  },
  {
   "cell_type": "code",
   "execution_count": 18,
   "metadata": {},
   "outputs": [],
   "source": [
    "MODULE_CHOICES = [\n",
    "    \"TextModule\",\n",
    "    \"TextAndGraphModule\",\n",
    "    \"TextAndNumModule\",\n",
    "    \"TextAndGraphAndNumModule\",\n",
    "    \"GraphModule\",\n",
    "    \"GraphAndNumModule\",\n",
    "    \"NumModule\",\n",
    "]\n",
    "\n",
    "METRICS_CHOICES = [\n",
    "    (\"val/f1_mean\", \"Valid F1 score\"),\n",
    "    (\"test/f1_mean\", \"Test F1 score\"),\n",
    "    (\"test/auroc_mean\", \"AUROC\")\n",
    "]\n",
    "\n",
    "PIVOT_METRIC = METRICS_CHOICES[0][0]"
   ]
  },
  {
   "cell_type": "code",
   "execution_count": 23,
   "metadata": {},
   "outputs": [],
   "source": [
    "def summarize_cv_results(df: pd.DataFrame, MODULE_CHOICES=MODULE_CHOICES, PIVOT_METRIC=PIVOT_METRIC):\n",
    "    for module in MODULE_CHOICES:\n",
    "        print(f\"Module: {module}\")\n",
    "        tmp_df = df.query(f\"index.str.contains('{module}')\").query(f\"index.str.startswith('{module[0]}')\")\n",
    "        max_idx = tmp_df[PIVOT_METRIC].idxmax()\n",
    "        max_row = tmp_df.loc[max_idx]\n",
    "        for _metric in METRICS_CHOICES:\n",
    "            print(f\"    {_metric[0] + ':':<20}{100*max_row[{_metric[0]}][_metric[0]]:.2f}\")\n"
   ]
  },
  {
   "cell_type": "code",
   "execution_count": 25,
   "metadata": {},
   "outputs": [
    {
     "name": "stdout",
     "output_type": "stream",
     "text": [
      "Module: TextModule\n",
      "    val/f1_mean:        53.59\n",
      "    test/f1_mean:       73.34\n",
      "    test/auroc_mean:    94.55\n",
      "Module: TextAndGraphModule\n",
      "    val/f1_mean:        52.08\n",
      "    test/f1_mean:       78.21\n",
      "    test/auroc_mean:    95.34\n",
      "Module: TextAndNumModule\n",
      "    val/f1_mean:        56.61\n",
      "    test/f1_mean:       71.98\n",
      "    test/auroc_mean:    92.61\n",
      "Module: TextAndGraphAndNumModule\n",
      "    val/f1_mean:        54.57\n",
      "    test/f1_mean:       75.21\n",
      "    test/auroc_mean:    94.86\n",
      "Module: GraphModule\n",
      "    val/f1_mean:        14.02\n",
      "    test/f1_mean:       4.68\n",
      "    test/auroc_mean:    51.38\n",
      "Module: GraphAndNumModule\n",
      "    val/f1_mean:        18.17\n",
      "    test/f1_mean:       7.06\n",
      "    test/auroc_mean:    48.09\n",
      "Module: NumModule\n",
      "    val/f1_mean:        13.20\n",
      "    test/f1_mean:       10.42\n",
      "    test/auroc_mean:    53.21\n"
     ]
    }
   ],
   "source": [
    "summarize_cv_results(hprd_df)"
   ]
  },
  {
   "cell_type": "code",
   "execution_count": 26,
   "metadata": {},
   "outputs": [
    {
     "name": "stdout",
     "output_type": "stream",
     "text": [
      "Module: TextModule\n",
      "    val/f1_mean:        75.66\n",
      "    test/f1_mean:       84.88\n",
      "    test/auroc_mean:    96.79\n",
      "Module: TextAndGraphModule\n",
      "    val/f1_mean:        74.92\n",
      "    test/f1_mean:       85.05\n",
      "    test/auroc_mean:    95.63\n",
      "Module: TextAndNumModule\n",
      "    val/f1_mean:        76.51\n",
      "    test/f1_mean:       85.05\n",
      "    test/auroc_mean:    96.16\n",
      "Module: TextAndGraphAndNumModule\n",
      "    val/f1_mean:        76.48\n",
      "    test/f1_mean:       85.80\n",
      "    test/auroc_mean:    96.79\n",
      "Module: GraphModule\n",
      "    val/f1_mean:        4.47\n",
      "    test/f1_mean:       2.07\n",
      "    test/auroc_mean:    51.06\n",
      "Module: GraphAndNumModule\n",
      "    val/f1_mean:        22.37\n",
      "    test/f1_mean:       19.94\n",
      "    test/auroc_mean:    49.84\n",
      "Module: NumModule\n",
      "    val/f1_mean:        18.94\n",
      "    test/f1_mean:       16.99\n",
      "    test/auroc_mean:    50.94\n"
     ]
    }
   ],
   "source": [
    "summarize_cv_results(bioinfer_df)"
   ]
  }
 ],
 "metadata": {
  "interpreter": {
   "hash": "5141fc10e8a935e138f3e243e5417da10412e5ff0f60bc491789adff2bddecfb"
  },
  "kernelspec": {
   "display_name": "Python 3.8.12 ('lightning-hydra-template-aIZGJKDg-py3.8')",
   "language": "python",
   "name": "python3"
  },
  "language_info": {
   "codemirror_mode": {
    "name": "ipython",
    "version": 3
   },
   "file_extension": ".py",
   "mimetype": "text/x-python",
   "name": "python",
   "nbconvert_exporter": "python",
   "pygments_lexer": "ipython3",
   "version": "3.8.12"
  },
  "orig_nbformat": 4
 },
 "nbformat": 4,
 "nbformat_minor": 2
}
