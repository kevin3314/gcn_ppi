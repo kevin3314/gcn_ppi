{
 "cells": [
  {
   "cell_type": "code",
   "execution_count": 1,
   "metadata": {},
   "outputs": [],
   "source": [
    "import pandas as pd\n",
    "from pathlib import Path\n",
    "import os.path\n",
    "import re\n",
    "import numpy as np"
   ]
  },
  {
   "cell_type": "code",
   "execution_count": 2,
   "metadata": {},
   "outputs": [],
   "source": [
    "SINGLE_RES_ROOT = Path(\"../data/multi_modal_ppi_results/single_run\")\n",
    "CV_RES_ROOT = Path(\"../data/multi_modal_ppi_results/cross_validation\")\n",
    "PUB_RES_ROOT = Path(\"../results/\")\n",
    "SINGLE_HPRD_PATH = SINGLE_RES_ROOT / \"hprd_run.csv\"\n",
    "SINGLE_BIOINFER_PATH = SINGLE_RES_ROOT / \"bioinfer_run.csv\"\n",
    "CV_HPRD_PATH = CV_RES_ROOT / \"hprd_run.csv\"\n",
    "CV_BIOINFER_PATH = CV_RES_ROOT / \"bioinfer_run.csv\""
   ]
  },
  {
   "cell_type": "code",
   "execution_count": 3,
   "metadata": {},
   "outputs": [],
   "source": [
    "single_hprd_df = pd.read_csv(SINGLE_HPRD_PATH, index_col=\"Name\")\n",
    "single_bioinfer_df = pd.read_csv(SINGLE_BIOINFER_PATH, index_col=\"Name\")\n",
    "cv_hprd_df = pd.read_csv(CV_HPRD_PATH, index_col=\"Name\")\n",
    "cv_bioinfer_df = pd.read_csv(CV_BIOINFER_PATH, index_col=\"Name\")"
   ]
  },
  {
   "cell_type": "code",
   "execution_count": 4,
   "metadata": {},
   "outputs": [],
   "source": [
    "# Result csv file for public\n",
    "single_hprd_df.drop([\"Source Name\", \"best_checkpoint_0fold\", \"dataset_csv_path\", \"dataset_feature_tsv_path\", \"dataset_pdb_path\", \"User\"], axis=1).to_csv(PUB_RES_ROOT / \"single_hprd_results.csv\")\n",
    "single_bioinfer_df.drop([\"Source Name\", \"best_checkpoint_0fold\", \"dataset_csv_path\", \"dataset_feature_tsv_path\", \"dataset_pdb_path\", \"User\"], axis=1).to_csv(PUB_RES_ROOT / \"single_bioinfer_results.csv\")\n",
    "cv_hprd_df.drop([\"Source Name\", \"best_checkpoint_0fold\", \"best_checkpoint_1fold\", \"best_checkpoint_2fold\", \"best_checkpoint_3fold\", \"best_checkpoint_4fold\", \"dataset_csv_path\", \"dataset_feature_tsv_path\", \"dataset_pdb_path\", \"User\"], axis=1).to_csv(PUB_RES_ROOT / \"cv_hprd_results.csv\")\n",
    "cv_bioinfer_df.drop([\"Source Name\", \"best_checkpoint_0fold\", \"best_checkpoint_1fold\", \"best_checkpoint_2fold\", \"best_checkpoint_3fold\", \"best_checkpoint_4fold\", \"dataset_csv_path\", \"dataset_feature_tsv_path\", \"dataset_pdb_path\", \"User\"], axis=1).to_csv(PUB_RES_ROOT / \"cv_bioinfer_results.csv\")"
   ]
  },
  {
   "cell_type": "code",
   "execution_count": 5,
   "metadata": {},
   "outputs": [],
   "source": [
    "def get_num_data_version(name: str, pat=re.compile(r\"gene_feature_v(\\d)_log_pca(\\d+).*\")) -> str:\n",
    "    try:\n",
    "        if name is None or (not isinstance(name, str) and np.isnan(name)):\n",
    "            return \"\"\n",
    "        name = os.path.basename(name)\n",
    "        match = pat.match(name)\n",
    "        return \"Ver\" + match.groups()[0] + \"_\" + match.groups()[1]\n",
    "    except Exception as e:\n",
    "        print(name)\n",
    "        print(type(name))\n",
    "        raise e"
   ]
  },
  {
   "cell_type": "code",
   "execution_count": 6,
   "metadata": {},
   "outputs": [],
   "source": [
    "for df in [single_hprd_df, single_bioinfer_df, cv_hprd_df, cv_bioinfer_df]:\n",
    "    df[\"numerical_version\"] = df[\"dataset_feature_tsv_path\"].apply(get_num_data_version)\n",
    "    df[\"text_modality\"] = df[\"model__target_\"].apply(lambda x: \"Text\" in x)\n",
    "    df[\"graph_modality\"] = df[\"model__target_\"].apply(lambda x: \"Graph\" in x)\n",
    "    df[\"numerical_modality\"] = df[\"model__target_\"].apply(lambda x: \"Num\" in x)\n",
    "\n",
    "single_hprd_df[\"dataset\"] = \"hprd\"\n",
    "cv_hprd_df[\"dataset\"] = \"hprd\"\n",
    "single_bioinfer_df[\"dataset\"] = \"bioinfer\"\n",
    "cv_bioinfer_df[\"dataset\"] = \"bioinfer\""
   ]
  },
  {
   "cell_type": "code",
   "execution_count": 7,
   "metadata": {},
   "outputs": [],
   "source": [
    "MODULE_CHOICES = [\n",
    "    \"TextModule\",\n",
    "    \"GraphModule\",\n",
    "    \"NumModule\",\n",
    "    \"TextAndGraphModule\",\n",
    "    \"TextAndNumModule\",\n",
    "    \"GraphAndNumModule\",\n",
    "    \"TextAndGraphAndNumModule\",\n",
    "]\n",
    "\n",
    "METRICS = [\n",
    "    \"val/f1\",\n",
    "    \"test/acc\",\n",
    "    \"test/prec\",\n",
    "    \"test/rec\",\n",
    "    \"test/f1\",\n",
    "    \"test/auroc\"\n",
    "]\n",
    "\n",
    "METRICS_CHOICES = [\n",
    "    x for y in [(f\"{x}_mean\", f\"{x}_std\") for x in METRICS]\n",
    "    for x in y\n",
    "]\n",
    "PIVOT_METRIC = \"val/f1_mean\"\n",
    "KEY = [\"dataset\", \"text_modality\", \"graph_modality\", \"numerical_modality\", \"numerical_version\", \"model_with_intermediate_layer\", \"model_with_tensorfusion_network\", \"model_with_lowrank_tensorfusion_network\"] + METRICS_CHOICES"
   ]
  },
  {
   "cell_type": "code",
   "execution_count": 8,
   "metadata": {},
   "outputs": [],
   "source": [
    "single_hprd_df[KEY][::-1].to_csv(PUB_RES_ROOT / \"main_part_single_hprd_run.csv\")\n",
    "single_bioinfer_df[KEY][::-1].to_csv(PUB_RES_ROOT / \"main_part_single_bioinfer_run.csv\")\n",
    "cv_hprd_df[KEY][::-1].to_csv(PUB_RES_ROOT / \"main_part_cv_hprd_run.csv\")\n",
    "cv_bioinfer_df[KEY][::-1].to_csv(PUB_RES_ROOT / \"main_part_cv_bioinfer_run.csv\")"
   ]
  },
  {
   "cell_type": "code",
   "execution_count": 9,
   "metadata": {},
   "outputs": [],
   "source": [
    "def summarize_results(df: pd.DataFrame, MODULE_CHOICES=MODULE_CHOICES, PIVOT_METRIC=PIVOT_METRIC, METRICS=METRICS, with_std=True):\n",
    "    def _write_mean_std_from_df(tmp_df, RESULT):\n",
    "        max_idx = tmp_df[PIVOT_METRIC].idxmax()\n",
    "        max_row = tmp_df.loc[max_idx]\n",
    "        for _metric in METRICS:\n",
    "            mean = max_row[f\"{_metric}_mean\"]\n",
    "            std = max_row[f\"{_metric}_std\"]\n",
    "            RESULT += f\"{100*mean:.2f} \"\n",
    "            if with_std:\n",
    "                RESULT += f\"(±{100*std:.2f}) | \"\n",
    "            else:\n",
    "                RESULT += \" | \"\n",
    "        RESULT = RESULT.strip() + \"\\n\"\n",
    "        return RESULT\n",
    "\n",
    "    RESULT = \"| Model | \" + \" | \".join(METRICS) + \" |\\n\"\n",
    "    RESULT += \"| :--- | \" + \" | \".join([\"---:\" for _ in METRICS]) + \" |\\n\"\n",
    "    for module in MODULE_CHOICES:\n",
    "        module_key = module.replace(\"Module\", \"\")\n",
    "        module_key = module_key.replace(\"And\", \" & \")\n",
    "        if  module == \"TextAndGraphAndNumModule\":\n",
    "            # Iterate over concat, with_tensorfusion, with_lowrank_tensorfusion\n",
    "            RESULT += f\"| {module_key} (TensorFusion) | \"\n",
    "            tmp_df = df.query(f\"index.str.contains('{module}')\").query(f\"index.str.startswith('{module[0]}')\").query(f\"model_with_tensorfusion_network == True\")\n",
    "            drop_idx = list(tmp_df.index)\n",
    "            RESULT = _write_mean_std_from_df(tmp_df, RESULT)\n",
    "\n",
    "            RESULT += f\"| {module_key} (LowrankTensorFusion) | \"\n",
    "            tmp_df = df.query(f\"index.str.contains('{module}')\").query(f\"index.str.startswith('{module[0]}')\").query(f\"model_with_lowrank_tensorfusion_network == True\")\n",
    "            drop_idx += list(tmp_df.index)\n",
    "            RESULT = _write_mean_std_from_df(tmp_df, RESULT)\n",
    "\n",
    "            RESULT += f\"| {module_key} (Concat) | \"\n",
    "            # All modelse but with tenosrfusion are concat-model\n",
    "            tmp_df = df.query(f\"index.str.contains('{module}')\").query(f\"index.str.startswith('{module[0]}')\").drop(drop_idx)\n",
    "            RESULT = _write_mean_std_from_df(tmp_df, RESULT)\n",
    "        else:\n",
    "            RESULT += f\"| {module_key} | \"\n",
    "            tmp_df = df.query(f\"index.str.contains('{module}')\").query(f\"index.str.startswith('{module[0]}')\")\n",
    "            RESULT = _write_mean_std_from_df(tmp_df, RESULT)\n",
    "    print(RESULT)"
   ]
  },
  {
   "cell_type": "code",
   "execution_count": 10,
   "metadata": {},
   "outputs": [
    {
     "name": "stdout",
     "output_type": "stream",
     "text": [
      "Single run: Result for hprd\n",
      "\n",
      "| Model | val/f1 | test/acc | test/prec | test/rec | test/f1 | test/auroc |\n",
      "| :--- | ---: | ---: | ---: | ---: | ---: | ---: |\n",
      "| Text | 81.82  | 97.31  | 93.33  | 70.00  | 80.00  | 97.56  |\n",
      "| Graph | 0.00  | 85.00  | 0.00  | 0.00  | 0.00  | 47.71  |\n",
      "| Num | 10.81  | 83.85  | 7.69  | 10.00  | 8.70  | 48.45  |\n",
      "| Text & Graph | 85.71  | 96.92  | 87.50  | 70.00  | 77.78  | 98.31  |\n",
      "| Text & Num | 85.71  | 94.62  | 71.43  | 50.00  | 58.82  | 95.75  |\n",
      "| Graph & Num | 18.18  | 82.31  | 3.57  | 5.00  | 4.17  | 47.96  |\n",
      "| Text & Graph & Num (TensorFusion) | 78.26  | 93.46  | 56.52  | 65.00  | 60.47  | nan  |\n",
      "| Text & Graph & Num (LowrankTensorFusion) | 69.57  | 93.85  | 60.00  | 60.00  | 60.00  | nan  |\n",
      "| Text & Graph & Num (Concat) | 90.91  | 96.54  | 82.35  | 70.00  | 75.68  | 98.00  |\n",
      "\n",
      "------------------------------\n",
      "Single run: Result for bioinfer\n",
      "\n",
      "| Model | val/f1 | test/acc | test/prec | test/rec | test/f1 | test/auroc |\n",
      "| :--- | ---: | ---: | ---: | ---: | ---: | ---: |\n",
      "| Text | 83.99  | 93.79  | 79.30  | 86.38  | 82.69  | 95.93  |\n",
      "| Graph | 0.00  | 82.82  | 0.00  | 0.00  | 0.00  | 45.78  |\n",
      "| Num | 17.85  | 66.81  | 13.13  | 16.60  | 14.66  | 48.61  |\n",
      "| Text & Graph | 86.74  | 95.18  | 84.77  | 87.66  | 86.19  | 97.55  |\n",
      "| Text & Num | 86.71  | 94.30  | 80.54  | 88.09  | 84.15  | 96.60  |\n",
      "| Graph & Num | 23.92  | 66.74  | 19.27  | 29.36  | 23.27  | 48.58  |\n",
      "| Text & Graph & Num (TensorFusion) | 90.38  | 96.13  | 88.56  | 88.94  | 88.75  | nan  |\n",
      "| Text & Graph & Num (LowrankTensorFusion) | 86.46  | 95.03  | 81.51  | 91.91  | 86.40  | nan  |\n",
      "| Text & Graph & Num (Concat) | 85.59  | 94.74  | 82.73  | 87.66  | 85.12  | 97.63  |\n",
      "\n"
     ]
    }
   ],
   "source": [
    "print(\"Single run: Result for hprd\")\n",
    "print()\n",
    "summarize_results(single_hprd_df, with_std=False)\n",
    "\n",
    "print(\"-\"*30)\n",
    "print(\"Single run: Result for bioinfer\")\n",
    "print()\n",
    "summarize_results(single_bioinfer_df, with_std=False)"
   ]
  },
  {
   "cell_type": "code",
   "execution_count": 11,
   "metadata": {},
   "outputs": [
    {
     "name": "stdout",
     "output_type": "stream",
     "text": [
      "CV run: Result for hprd\n",
      "\n",
      "| Model | val/f1 | test/acc | test/prec | test/rec | test/f1 | test/auroc |\n",
      "| :--- | ---: | ---: | ---: | ---: | ---: | ---: |\n",
      "| Text | 78.14 (±4.80) | 97.60 (±1.37) | 80.92 (±18.47) | 70.85 (±16.59) | 73.48 (±12.15) | 94.45 (±8.05) |\n",
      "| Graph | 10.60 (±5.43) | 67.05 (±20.25) | 2.57 (±2.28) | 27.13 (±22.83) | 4.68 (±4.14) | 51.51 (±8.02) |\n",
      "| Num | 18.07 (±8.53) | 69.69 (±19.87) | 7.67 (±2.70) | 37.82 (±18.00) | 11.45 (±1.98) | 55.81 (±9.57) |\n",
      "| Text & Graph | 74.68 (±4.99) | 97.36 (±0.75) | 75.39 (±10.89) | 67.78 (±19.24) | 68.99 (±9.81) | 92.31 (±7.11) |\n",
      "| Text & Num | 78.47 (±7.98) | 97.60 (±0.99) | 80.30 (±15.33) | 69.33 (±16.20) | 72.18 (±11.11) | 96.24 (±5.15) |\n",
      "| Graph & Num | 18.32 (±6.81) | 68.68 (±9.15) | 4.00 (±2.66) | 30.43 (±21.32) | 7.06 (±4.72) | 48.14 (±6.93) |\n",
      "| Text & Graph & Num (TensorFusion) | 79.45 (±5.86) | 97.29 (±0.78) | 77.69 (±20.12) | 71.50 (±17.29) | 70.19 (±6.82) | nan (±nan) |\n",
      "| Text & Graph & Num (LowrankTensorFusion) | 69.60 (±4.33) | 95.19 (±0.94) | 48.88 (±11.45) | 64.15 (±11.59) | 54.66 (±8.89) | nan (±nan) |\n",
      "| Text & Graph & Num (Concat) | 78.07 (±7.36) | 98.29 (±0.94) | 89.17 (±1.36) | 72.85 (±16.96) | 79.25 (±10.78) | 95.37 (±5.73) |\n",
      "\n",
      "------------------------------\n",
      "CV run: Result for bioinfer\n",
      "\n",
      "| Model | val/f1 | test/acc | test/prec | test/rec | test/f1 | test/auroc |\n",
      "| :--- | ---: | ---: | ---: | ---: | ---: | ---: |\n",
      "| Text | 85.85 (±2.00) | 94.66 (±1.08) | 84.73 (±3.75) | 85.69 (±3.32) | 85.14 (±2.71) | 97.31 (±0.85) |\n",
      "| Graph | 1.48 (±2.25) | 81.70 (±1.23) | 5.71 (±11.43) | 1.26 (±2.53) | 2.07 (±4.14) | 51.06 (±1.08) |\n",
      "| Num | 17.24 (±4.52) | 70.27 (±2.37) | 16.82 (±2.64) | 17.43 (±4.85) | 17.00 (±3.84) | 50.97 (±3.63) |\n",
      "| Text & Graph | 84.41 (±2.08) | 94.22 (±1.20) | 85.58 (±3.46) | 81.58 (±6.32) | 83.37 (±3.58) | 96.24 (±1.66) |\n",
      "| Text & Num | 86.54 (±2.92) | 94.72 (±1.13) | 85.56 (±3.46) | 84.73 (±4.09) | 85.09 (±3.22) | 96.58 (±1.30) |\n",
      "| Graph & Num | 21.81 (±1.20) | 63.75 (±0.92) | 16.45 (±1.18) | 25.61 (±4.68) | 19.95 (±2.14) | 49.85 (±1.17) |\n",
      "| Text & Graph & Num (TensorFusion) | 84.54 (±4.87) | 94.44 (±1.56) | 84.54 (±3.86) | 84.28 (±5.72) | 84.35 (±4.46) | nan (±nan) |\n",
      "| Text & Graph & Num (LowrankTensorFusion) | 85.89 (±0.96) | 94.43 (±1.00) | 85.00 (±3.89) | 83.58 (±3.59) | 84.21 (±2.90) | nan (±nan) |\n",
      "| Text & Graph & Num (Concat) | 86.48 (±3.49) | 94.82 (±1.04) | 86.93 (±2.92) | 83.63 (±2.99) | 85.23 (±2.74) | 96.22 (±1.52) |\n",
      "\n"
     ]
    }
   ],
   "source": [
    "print(\"CV run: Result for hprd\")\n",
    "print()\n",
    "summarize_results(cv_hprd_df)\n",
    "\n",
    "print(\"-\"*30)\n",
    "print(\"CV run: Result for bioinfer\")\n",
    "print()\n",
    "summarize_results(cv_bioinfer_df)"
   ]
  }
 ],
 "metadata": {
  "interpreter": {
   "hash": "5141fc10e8a935e138f3e243e5417da10412e5ff0f60bc491789adff2bddecfb"
  },
  "kernelspec": {
   "display_name": "Python 3.8.12 ('lightning-hydra-template-aIZGJKDg-py3.8')",
   "language": "python",
   "name": "python3"
  },
  "language_info": {
   "codemirror_mode": {
    "name": "ipython",
    "version": 3
   },
   "file_extension": ".py",
   "mimetype": "text/x-python",
   "name": "python",
   "nbconvert_exporter": "python",
   "pygments_lexer": "ipython3",
   "version": "3.8.12"
  },
  "orig_nbformat": 4
 },
 "nbformat": 4,
 "nbformat_minor": 2
}
